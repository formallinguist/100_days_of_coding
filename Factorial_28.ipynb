{
  "nbformat": 4,
  "nbformat_minor": 0,
  "metadata": {
    "colab": {
      "provenance": []
    },
    "kernelspec": {
      "name": "python3",
      "display_name": "Python 3"
    },
    "language_info": {
      "name": "python"
    }
  },
  "cells": [
    {
      "cell_type": "code",
      "execution_count": 6,
      "metadata": {
        "colab": {
          "base_uri": "https://localhost:8080/"
        },
        "id": "cu3ANNOAvNZ_",
        "outputId": "7105fe0e-43af-465c-e947-860cf38c098a"
      },
      "outputs": [
        {
          "output_type": "stream",
          "name": "stdout",
          "text": [
            "Enter the value4\n",
            "4\n"
          ]
        }
      ],
      "source": [
        "number = int(input('Enter the value'))\n",
        "\n",
        "print(number)"
      ]
    },
    {
      "cell_type": "code",
      "source": [
        "def fact(number):\n",
        "\n",
        "  x = 1\n",
        "  for i in range(1,number+1):\n",
        "    x = x * i\n",
        "\n",
        "  return x"
      ],
      "metadata": {
        "id": "4m2OlL-AvvaR"
      },
      "execution_count": 7,
      "outputs": []
    },
    {
      "cell_type": "code",
      "source": [
        "fact(number)"
      ],
      "metadata": {
        "colab": {
          "base_uri": "https://localhost:8080/"
        },
        "id": "nMAf_-oFvrks",
        "outputId": "52193747-e442-4040-d260-08cf6c78d488"
      },
      "execution_count": 8,
      "outputs": [
        {
          "output_type": "execute_result",
          "data": {
            "text/plain": [
              "24"
            ]
          },
          "metadata": {},
          "execution_count": 8
        }
      ]
    }
  ]
}