{
  "nbformat": 4,
  "nbformat_minor": 0,
  "metadata": {
    "colab": {
      "provenance": []
    },
    "kernelspec": {
      "name": "python3",
      "display_name": "Python 3"
    },
    "language_info": {
      "name": "python"
    }
  },
  "cells": [
    {
      "cell_type": "code",
      "execution_count": 17,
      "metadata": {
        "colab": {
          "base_uri": "https://localhost:8080/"
        },
        "id": "Q975pAUUyPu1",
        "outputId": "ddfaaa1f-49e6-4595-8d90-6932784e878c"
      },
      "outputs": [
        {
          "output_type": "stream",
          "name": "stdout",
          "text": [
            "Id of X 140421602886096\n",
            "x is 8\n",
            "Id of a 140421602886160\n",
            "Id of X 140421602886096\n",
            "x is 8\n",
            "a is 10\n"
          ]
        }
      ],
      "source": [
        "#Pass by reference and Pass by value.\n",
        "\n",
        "def update(x):\n",
        "  x = 8\n",
        "  print(\"Id of X\",id(x))\n",
        "  print(\"x is\",x)\n",
        "\n",
        "update(10)\n",
        "\n",
        "\n",
        "a  = 10\n",
        "print(\"Id of a\",id(a))\n",
        "update(a)\n",
        "print(\"a is\",a)\n",
        "\n"
      ]
    },
    {
      "cell_type": "code",
      "source": [
        "#List\n",
        "\n",
        "def update(list):\n",
        "\n",
        "  print(id(list))\n",
        "\n",
        "  list[1] = 25\n",
        "  print(id,(list))\n",
        "  print(\"x\",list)\n",
        "\n",
        "\n",
        "list = [20,30,40]\n",
        "print(id(list))\n",
        "update(list)\n",
        "print(\"list\",list)"
      ],
      "metadata": {
        "colab": {
          "base_uri": "https://localhost:8080/"
        },
        "id": "KH2-Hv4u11tH",
        "outputId": "d326e93b-a8e0-47ce-fb0d-6b9e78db9c4d"
      },
      "execution_count": 19,
      "outputs": [
        {
          "output_type": "stream",
          "name": "stdout",
          "text": [
            "140420287356352\n",
            "140420287356352\n",
            "<built-in function id> [20, 25, 40]\n",
            "x [20, 25, 40]\n",
            "list [20, 25, 40]\n"
          ]
        }
      ]
    }
  ]
}