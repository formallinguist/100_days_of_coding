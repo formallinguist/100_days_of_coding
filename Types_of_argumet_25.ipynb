{
  "nbformat": 4,
  "nbformat_minor": 0,
  "metadata": {
    "colab": {
      "provenance": []
    },
    "kernelspec": {
      "name": "python3",
      "display_name": "Python 3"
    },
    "language_info": {
      "name": "python"
    }
  },
  "cells": [
    {
      "cell_type": "code",
      "source": [
        "#Key word argument.\n",
        "def p_information(name,age):\n",
        "  print(name)\n",
        "  print(age)\n",
        "\n",
        "p_information(name = \"Ravi\", age = 26)"
      ],
      "metadata": {
        "colab": {
          "base_uri": "https://localhost:8080/"
        },
        "id": "HsPXAu7yHuBq",
        "outputId": "b261059f-a040-465d-8dd4-94265ea82b5b"
      },
      "execution_count": 2,
      "outputs": [
        {
          "output_type": "stream",
          "name": "stdout",
          "text": [
            "Ravi\n",
            "26\n"
          ]
        }
      ]
    },
    {
      "cell_type": "code",
      "source": [
        "#default.\n",
        "\n",
        "#Key word argument.\n",
        "def p_information(name,age = 18): # here 18 is adefault value. if we give age value, it will override the default value.\n",
        "  print(name)\n",
        "  print(age)\n",
        "\n",
        "p_information(name = \"Ravi\")\n"
      ],
      "metadata": {
        "colab": {
          "base_uri": "https://localhost:8080/"
        },
        "id": "yEIoo94wJNLu",
        "outputId": "ba5b4030-8a2b-48af-95b1-e09a258de733"
      },
      "execution_count": 3,
      "outputs": [
        {
          "output_type": "stream",
          "name": "stdout",
          "text": [
            "Ravi\n",
            "18\n"
          ]
        }
      ]
    },
    {
      "cell_type": "code",
      "source": [
        "#Variable length arguments.\n",
        "def sum(a, *b): # here *b takes multiple arguments.\n",
        "  c = a\n",
        "  for i in b:\n",
        "    c += i\n",
        "  print(c)\n",
        "\n",
        "sum(5,6,7,8)\n"
      ],
      "metadata": {
        "colab": {
          "base_uri": "https://localhost:8080/"
        },
        "id": "vV4PrZyoJtXS",
        "outputId": "b6c14333-7baf-4f31-e66a-41e0a5af55ea"
      },
      "execution_count": 7,
      "outputs": [
        {
          "output_type": "stream",
          "name": "stdout",
          "text": [
            "26\n"
          ]
        }
      ]
    },
    {
      "cell_type": "code",
      "source": [
        "#Another way of doing the above code.\n",
        "def sum(*b):\n",
        "  c = 0\n",
        "  for i in b:\n",
        "    c += i\n",
        "  print(c)\n",
        "\n",
        "sum(5,6,7,8)"
      ],
      "metadata": {
        "colab": {
          "base_uri": "https://localhost:8080/"
        },
        "id": "qxCJotnqL1v2",
        "outputId": "97c3d7cf-b620-4ef5-8dd8-c36cc4a0deea"
      },
      "execution_count": 9,
      "outputs": [
        {
          "output_type": "stream",
          "name": "stdout",
          "text": [
            "26\n"
          ]
        }
      ]
    }
  ]
}