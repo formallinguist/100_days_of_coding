{
  "nbformat": 4,
  "nbformat_minor": 0,
  "metadata": {
    "colab": {
      "provenance": []
    },
    "kernelspec": {
      "name": "python3",
      "display_name": "Python 3"
    },
    "language_info": {
      "name": "python"
    }
  },
  "cells": [
    {
      "cell_type": "code",
      "execution_count": 4,
      "metadata": {
        "colab": {
          "base_uri": "https://localhost:8080/"
        },
        "id": "nqr085rBQWCj",
        "outputId": "83c17d54-9504-470b-d9cf-0eafaf5cfc1b"
      },
      "outputs": [
        {
          "output_type": "stream",
          "name": "stdout",
          "text": [
            "[ 6  7  8  9 10]\n"
          ]
        }
      ],
      "source": [
        "from numpy import *\n",
        "\n",
        "arr = array([1,2,3,4,5])\n",
        "\n",
        "arr = arr + 5\n",
        "\n",
        "print(arr)"
      ]
    },
    {
      "cell_type": "code",
      "source": [
        "arr1 = arr\n",
        "print(arr1)\n",
        "\n",
        "arr2 = arr + 5\n",
        "print(arr2)\n",
        "\n",
        "arr3 = arr1 + arr\n",
        "print(arr3)"
      ],
      "metadata": {
        "colab": {
          "base_uri": "https://localhost:8080/"
        },
        "id": "Wu4_s-zNQ2e1",
        "outputId": "6795f87c-fd58-41ba-b0c6-8588badaeb10"
      },
      "execution_count": 5,
      "outputs": [
        {
          "output_type": "stream",
          "name": "stdout",
          "text": [
            "[ 6  7  8  9 10]\n",
            "[11 12 13 14 15]\n",
            "[12 14 16 18 20]\n"
          ]
        }
      ]
    },
    {
      "cell_type": "code",
      "source": [
        "#vectorized operations.\n",
        "\n",
        "print(sin(arr1))\n",
        "\n",
        "print(cos(arr2))\n",
        "\n",
        "print(log(arr3))\n",
        "\n",
        "print(sqrt(arr1))\n",
        "\n",
        "print(min(arr2))\n",
        "\n",
        "print(sort(arr3))\n",
        "\n",
        "print(concatenate([arr1,arr2]))"
      ],
      "metadata": {
        "colab": {
          "base_uri": "https://localhost:8080/"
        },
        "id": "meKDXTkIRels",
        "outputId": "a9ea3ba2-044c-44ae-9b68-819666659ce7"
      },
      "execution_count": 12,
      "outputs": [
        {
          "output_type": "stream",
          "name": "stdout",
          "text": [
            "[-0.2794155   0.6569866   0.98935825  0.41211849 -0.54402111]\n",
            "[ 0.0044257   0.84385396  0.90744678  0.13673722 -0.75968791]\n",
            "[2.48490665 2.63905733 2.77258872 2.89037176 2.99573227]\n",
            "[2.44948974 2.64575131 2.82842712 3.         3.16227766]\n",
            "11\n",
            "[12 14 16 18 20]\n",
            "[ 6  7  8  9 10 11 12 13 14 15]\n"
          ]
        }
      ]
    },
    {
      "cell_type": "code",
      "source": [
        "#Copying the array\n",
        "\n",
        "arr1 = ([1,2,3,4,5,6])\n",
        "\n",
        "arr2 = arr1\n",
        "\n",
        "print(arr2)"
      ],
      "metadata": {
        "colab": {
          "base_uri": "https://localhost:8080/"
        },
        "id": "nq9PbkeKSR6q",
        "outputId": "9c09ecef-960b-4900-8690-95e7813998f6"
      },
      "execution_count": 13,
      "outputs": [
        {
          "output_type": "stream",
          "name": "stdout",
          "text": [
            "[1, 2, 3, 4, 5, 6]\n"
          ]
        }
      ]
    },
    {
      "cell_type": "code",
      "source": [
        "# They have same address.\n",
        "print(id(arr1))\n",
        "\n",
        "print(id(arr2))"
      ],
      "metadata": {
        "colab": {
          "base_uri": "https://localhost:8080/"
        },
        "id": "wACqzfVTSctg",
        "outputId": "7d80f5bf-b705-442f-e200-10650c8f9031"
      },
      "execution_count": 15,
      "outputs": [
        {
          "output_type": "stream",
          "name": "stdout",
          "text": [
            "140528451065344\n",
            "140528451065344\n"
          ]
        }
      ]
    },
    {
      "cell_type": "code",
      "source": [
        "#view function will help to chage the id/address of the array \n",
        "\n",
        "arr1 = array([1,2,3,4,5,6,7])\n",
        "\n",
        "arr2 = arr1.view()\n",
        "\n",
        "print(id(arr1))\n",
        "print(id(arr2))"
      ],
      "metadata": {
        "colab": {
          "base_uri": "https://localhost:8080/"
        },
        "id": "DX6MKTKGS25V",
        "outputId": "58f50177-7531-4ba5-8bab-40ec4e340ed9"
      },
      "execution_count": 17,
      "outputs": [
        {
          "output_type": "stream",
          "name": "stdout",
          "text": [
            "140528450862512\n",
            "140528450975088\n"
          ]
        }
      ]
    },
    {
      "cell_type": "code",
      "source": [
        "#Two different types of copying: shallow copying and deep coping\n",
        "\n",
        "#view function for shallow copying.\n",
        "\n",
        "arr1 = array([1,2,3,4,5,6,7])\n",
        "\n",
        "arr2 = arr1.view()\n",
        "\n",
        "#Change of ids for both the arr1 and arr2\n",
        "print(id(arr1))\n",
        "print(id(arr2))\n",
        "\n",
        "#copy function for deep copying\n",
        "\n",
        "arr1 = array([1,2,3,4,5,6,7])\n",
        "\n",
        "arr2 = arr1.copy()\n",
        "\n",
        "# change of id is only for one array.\n",
        "print(id(arr1))\n",
        "print(id(arr2))"
      ],
      "metadata": {
        "colab": {
          "base_uri": "https://localhost:8080/"
        },
        "id": "xXCaMhROTg3i",
        "outputId": "b8ed5613-5c33-4edd-81e3-5d63e850c0b7"
      },
      "execution_count": 20,
      "outputs": [
        {
          "output_type": "stream",
          "name": "stdout",
          "text": [
            "140528450862512\n",
            "140528450998160\n",
            "140528450974896\n",
            "140528450975952\n"
          ]
        }
      ]
    }
  ]
}