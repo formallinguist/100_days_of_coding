{
  "nbformat": 4,
  "nbformat_minor": 0,
  "metadata": {
    "colab": {
      "provenance": []
    },
    "kernelspec": {
      "name": "python3",
      "display_name": "Python 3"
    },
    "language_info": {
      "name": "python"
    }
  },
  "cells": [
    {
      "cell_type": "code",
      "execution_count": 1,
      "metadata": {
        "id": "X1-SvZLHcMjK"
      },
      "outputs": [],
      "source": [
        "from numpy import*"
      ]
    },
    {
      "cell_type": "code",
      "source": [
        "arr1 = array([\n",
        "               [1,2,3],\n",
        "               [4,5,6]\n",
        "])"
      ],
      "metadata": {
        "id": "kaSm0VqacXYR"
      },
      "execution_count": 2,
      "outputs": []
    },
    {
      "cell_type": "code",
      "source": [
        "print(arr1.ndim)"
      ],
      "metadata": {
        "colab": {
          "base_uri": "https://localhost:8080/"
        },
        "id": "eciqiV7hcpQq",
        "outputId": "fe024230-4721-4e89-8de3-94120032eb1d"
      },
      "execution_count": 3,
      "outputs": [
        {
          "output_type": "stream",
          "name": "stdout",
          "text": [
            "2\n"
          ]
        }
      ]
    },
    {
      "cell_type": "code",
      "source": [
        "print(arr1.shape)"
      ],
      "metadata": {
        "colab": {
          "base_uri": "https://localhost:8080/"
        },
        "id": "2CSJ1a4Pctdl",
        "outputId": "49bc8040-014b-429d-b313-ae02c6a11fd0"
      },
      "execution_count": 4,
      "outputs": [
        {
          "output_type": "stream",
          "name": "stdout",
          "text": [
            "(2, 3)\n"
          ]
        }
      ]
    },
    {
      "cell_type": "code",
      "source": [
        "print(arr1.size)"
      ],
      "metadata": {
        "colab": {
          "base_uri": "https://localhost:8080/"
        },
        "id": "ImQIwsvkcy1X",
        "outputId": "35ec3ec8-1fcb-4244-fea4-50b0078a6086"
      },
      "execution_count": 5,
      "outputs": [
        {
          "output_type": "stream",
          "name": "stdout",
          "text": [
            "6\n"
          ]
        }
      ]
    },
    {
      "cell_type": "code",
      "source": [
        "#Multi dimensional to single dimensional.\n",
        "arr2 = arr1.flatten()"
      ],
      "metadata": {
        "id": "bzp0gTedc-zH"
      },
      "execution_count": 6,
      "outputs": []
    },
    {
      "cell_type": "code",
      "source": [
        "print(arr2)"
      ],
      "metadata": {
        "colab": {
          "base_uri": "https://localhost:8080/"
        },
        "id": "FkLpaG3LdHFC",
        "outputId": "8beb7096-c7f8-4f02-b95a-4ea2a6e76a35"
      },
      "execution_count": 17,
      "outputs": [
        {
          "output_type": "stream",
          "name": "stdout",
          "text": [
            "[1 2 3 4 5 6]\n"
          ]
        }
      ]
    },
    {
      "cell_type": "code",
      "source": [
        "#single dimensional to multiple dimensional.\n",
        "arr3 = arr2.reshape(2,3)"
      ],
      "metadata": {
        "id": "VD4LWV2EdJEQ"
      },
      "execution_count": 19,
      "outputs": []
    },
    {
      "cell_type": "code",
      "source": [
        "print(arr3)"
      ],
      "metadata": {
        "colab": {
          "base_uri": "https://localhost:8080/"
        },
        "id": "Y92eQ2bhdTYk",
        "outputId": "522091c6-2cec-4274-f1bf-371ab9266d57"
      },
      "execution_count": 20,
      "outputs": [
        {
          "output_type": "stream",
          "name": "stdout",
          "text": [
            "[[1 2 3]\n",
            " [4 5 6]]\n"
          ]
        }
      ]
    },
    {
      "cell_type": "code",
      "source": [
        "arr1 = ([\n",
        "    [1,2,3,6],\n",
        "    [4,5,67]\n",
        "])"
      ],
      "metadata": {
        "id": "Vyt4D1IqeAKR"
      },
      "execution_count": 25,
      "outputs": []
    },
    {
      "cell_type": "code",
      "source": [
        "m1 = matrix('1 2 3; 6 4 5; 1 6 7')\n",
        "m2 = matrix('1 2 3; 6 8 5; 2 6 7')"
      ],
      "metadata": {
        "id": "0QJ60IaMemmK"
      },
      "execution_count": 53,
      "outputs": []
    },
    {
      "cell_type": "code",
      "source": [
        "print(m1)"
      ],
      "metadata": {
        "colab": {
          "base_uri": "https://localhost:8080/"
        },
        "id": "fi2lR8eke3Yh",
        "outputId": "882dd01a-b102-4dd7-ee38-752d4da69f95"
      },
      "execution_count": 54,
      "outputs": [
        {
          "output_type": "stream",
          "name": "stdout",
          "text": [
            "[[1 2 3]\n",
            " [6 4 5]\n",
            " [1 6 7]]\n"
          ]
        }
      ]
    },
    {
      "cell_type": "code",
      "source": [
        "print(diagonal(m1))"
      ],
      "metadata": {
        "colab": {
          "base_uri": "https://localhost:8080/"
        },
        "id": "zxVK4S7Ye-R9",
        "outputId": "9f97d0f0-37fe-47e2-ca51-751ab54a7541"
      },
      "execution_count": 55,
      "outputs": [
        {
          "output_type": "stream",
          "name": "stdout",
          "text": [
            "[1 4 7]\n"
          ]
        }
      ]
    },
    {
      "cell_type": "code",
      "source": [
        "print(m1.max())"
      ],
      "metadata": {
        "colab": {
          "base_uri": "https://localhost:8080/"
        },
        "id": "DhHuwnNGfDvt",
        "outputId": "23d22c40-d670-429c-a15f-ffe0a69d220e"
      },
      "execution_count": 56,
      "outputs": [
        {
          "output_type": "stream",
          "name": "stdout",
          "text": [
            "7\n"
          ]
        }
      ]
    },
    {
      "cell_type": "code",
      "source": [
        "# adding matrices\n",
        "print(m1+m2)"
      ],
      "metadata": {
        "colab": {
          "base_uri": "https://localhost:8080/"
        },
        "id": "MpLJjljDfV0P",
        "outputId": "53be6b08-12d5-405b-eaa4-c23a80a0c728"
      },
      "execution_count": 57,
      "outputs": [
        {
          "output_type": "stream",
          "name": "stdout",
          "text": [
            "[[ 2  4  6]\n",
            " [12 12 10]\n",
            " [ 3 12 14]]\n"
          ]
        }
      ]
    },
    {
      "cell_type": "code",
      "source": [
        "print(shape(m1))"
      ],
      "metadata": {
        "colab": {
          "base_uri": "https://localhost:8080/"
        },
        "id": "rJPvFDbYhway",
        "outputId": "d3fd4a9a-832d-4e58-a174-b8f8bc397f65"
      },
      "execution_count": 60,
      "outputs": [
        {
          "output_type": "stream",
          "name": "stdout",
          "text": [
            "(3, 3)\n"
          ]
        }
      ]
    },
    {
      "cell_type": "code",
      "source": [
        "print(shape(m2))"
      ],
      "metadata": {
        "colab": {
          "base_uri": "https://localhost:8080/"
        },
        "id": "pMmUc0aAhzoH",
        "outputId": "c3a02656-965a-42c7-a0ec-0b337b8ab82b"
      },
      "execution_count": 61,
      "outputs": [
        {
          "output_type": "stream",
          "name": "stdout",
          "text": [
            "(3, 3)\n"
          ]
        }
      ]
    },
    {
      "cell_type": "code",
      "source": [
        "m3 = m1 * m2;"
      ],
      "metadata": {
        "id": "BeUKaj8khIph"
      },
      "execution_count": 58,
      "outputs": []
    },
    {
      "cell_type": "code",
      "source": [
        "print(m3)"
      ],
      "metadata": {
        "colab": {
          "base_uri": "https://localhost:8080/"
        },
        "id": "2DXpSTyLhuFY",
        "outputId": "5b41ad9f-532b-414d-c68d-9b3acf7d0dd8"
      },
      "execution_count": 59,
      "outputs": [
        {
          "output_type": "stream",
          "name": "stdout",
          "text": [
            "[[19 36 34]\n",
            " [40 74 73]\n",
            " [51 92 82]]\n"
          ]
        }
      ]
    }
  ]
}