{
  "nbformat": 4,
  "nbformat_minor": 0,
  "metadata": {
    "colab": {
      "provenance": []
    },
    "kernelspec": {
      "name": "python3",
      "display_name": "Python 3"
    },
    "language_info": {
      "name": "python"
    }
  },
  "cells": [
    {
      "cell_type": "markdown",
      "source": [
        "#Functions are two types, a function can execute a task or it can return you something."
      ],
      "metadata": {
        "id": "gKkhInYjdOEu"
      }
    },
    {
      "cell_type": "code",
      "execution_count": 10,
      "metadata": {
        "id": "bOTw-aa6aPIW"
      },
      "outputs": [],
      "source": [
        "#Ctreating a function.\n",
        "def greet():\n",
        "  print(\"Hola\")\n",
        "  print(\"Buenas Dias\")"
      ]
    },
    {
      "cell_type": "code",
      "source": [
        "#Calling a function.\n",
        "greet()"
      ],
      "metadata": {
        "colab": {
          "base_uri": "https://localhost:8080/"
        },
        "id": "4wPKVzKSbmcq",
        "outputId": "28ee5752-3d72-4a20-b783-36f1804e254a"
      },
      "execution_count": 11,
      "outputs": [
        {
          "output_type": "stream",
          "name": "stdout",
          "text": [
            "Hola\n",
            "Buenas Dias\n"
          ]
        }
      ]
    },
    {
      "cell_type": "code",
      "source": [
        "#Here we are adding two variables.\n",
        "def add(x,y):\n",
        "  sum = x + y\n",
        "  print(sum)"
      ],
      "metadata": {
        "id": "bI5T2BqKcjg_"
      },
      "execution_count": 12,
      "outputs": []
    },
    {
      "cell_type": "code",
      "source": [
        "#Here we are calling the function add.\n",
        "add(9,8)"
      ],
      "metadata": {
        "colab": {
          "base_uri": "https://localhost:8080/"
        },
        "id": "8zvqQRvKcv3J",
        "outputId": "43ea2df3-b747-48f0-9db8-617b3edc870d"
      },
      "execution_count": 14,
      "outputs": [
        {
          "output_type": "stream",
          "name": "stdout",
          "text": [
            "17\n"
          ]
        }
      ]
    },
    {
      "cell_type": "code",
      "source": [
        "#Here we are adding two variables.\n",
        "def add(x,y):\n",
        "  sum = x + y\n",
        "  return sum"
      ],
      "metadata": {
        "id": "Z8OsGiGEdrLL"
      },
      "execution_count": 15,
      "outputs": []
    },
    {
      "cell_type": "code",
      "source": [
        "result = add(6,5)\n",
        "print(result)"
      ],
      "metadata": {
        "colab": {
          "base_uri": "https://localhost:8080/"
        },
        "id": "RuElYmnPduUJ",
        "outputId": "147623d8-3486-4dbd-d11b-1f55a91fa526"
      },
      "execution_count": 17,
      "outputs": [
        {
          "output_type": "stream",
          "name": "stdout",
          "text": [
            "11\n"
          ]
        }
      ]
    },
    {
      "cell_type": "code",
      "source": [
        "def add_sub(x,y):\n",
        "  ans1 = x + y\n",
        "  ans2 = x - y\n",
        "  return ans1, ans2"
      ],
      "metadata": {
        "id": "3Q5eUQ14d7Zq"
      },
      "execution_count": 18,
      "outputs": []
    },
    {
      "cell_type": "code",
      "source": [
        "sum1, sum2 = add_sub(9,5)"
      ],
      "metadata": {
        "id": "zRNdUoLreTdj"
      },
      "execution_count": 19,
      "outputs": []
    },
    {
      "cell_type": "code",
      "source": [
        "print(sum1,sum2)"
      ],
      "metadata": {
        "colab": {
          "base_uri": "https://localhost:8080/"
        },
        "id": "AylhlgzRecak",
        "outputId": "72b849a6-7c1f-438d-d0eb-5adf81e80bbf"
      },
      "execution_count": 21,
      "outputs": [
        {
          "output_type": "stream",
          "name": "stdout",
          "text": [
            "14 4\n"
          ]
        }
      ]
    }
  ]
}