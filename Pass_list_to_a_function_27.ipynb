{
  "nbformat": 4,
  "nbformat_minor": 0,
  "metadata": {
    "colab": {
      "provenance": []
    },
    "kernelspec": {
      "name": "python3",
      "display_name": "Python 3"
    },
    "language_info": {
      "name": "python"
    }
  },
  "cells": [
    {
      "cell_type": "code",
      "source": [
        "def count(l_ist):\n",
        "  even = 0\n",
        "  odd = 0\n",
        "  for i in l_ist:\n",
        "    if i % 2 == 0:\n",
        "      even += 1\n",
        "    else:\n",
        "      odd += 1\n",
        "  return even,odd"
      ],
      "metadata": {
        "id": "2_aty1I2QmDW"
      },
      "execution_count": 21,
      "outputs": []
    },
    {
      "cell_type": "code",
      "source": [
        "l_ist = [1,2,3,4,5,6,7,8,9,10]"
      ],
      "metadata": {
        "id": "Z65_fAKBR7SK"
      },
      "execution_count": 22,
      "outputs": []
    },
    {
      "cell_type": "code",
      "source": [
        "even, odd = count(l_ist)"
      ],
      "metadata": {
        "id": "BqQVRmPCRCAg"
      },
      "execution_count": 23,
      "outputs": []
    },
    {
      "cell_type": "code",
      "source": [
        "print(\"Even: {} and Odd {}\".format(even,odd))"
      ],
      "metadata": {
        "colab": {
          "base_uri": "https://localhost:8080/"
        },
        "id": "euS_PpI9Rk6L",
        "outputId": "8969a768-d048-46a8-d3cf-f521ae5b06f6"
      },
      "execution_count": 24,
      "outputs": [
        {
          "output_type": "stream",
          "name": "stdout",
          "text": [
            "Even: 5 and Odd 5\n"
          ]
        }
      ]
    }
  ]
}