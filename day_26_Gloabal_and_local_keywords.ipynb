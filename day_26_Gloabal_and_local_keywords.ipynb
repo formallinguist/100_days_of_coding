{
  "nbformat": 4,
  "nbformat_minor": 0,
  "metadata": {
    "colab": {
      "provenance": []
    },
    "kernelspec": {
      "name": "python3",
      "display_name": "Python 3"
    },
    "language_info": {
      "name": "python"
    }
  },
  "cells": [
    {
      "cell_type": "code",
      "execution_count": 6,
      "metadata": {
        "colab": {
          "base_uri": "https://localhost:8080/"
        },
        "id": "pimbpsPgePvg",
        "outputId": "926c29a2-9a6f-4d28-955f-53a29a210f62"
      },
      "outputs": [
        {
          "output_type": "stream",
          "name": "stdout",
          "text": [
            "variable 6\n",
            "6\n"
          ]
        }
      ],
      "source": [
        "#global variable\n",
        "a = 10\n",
        "\n",
        "def number():\n",
        "  #local variable\n",
        "  global a  # by this we can change the value of global varaible\n",
        "  a = 6\n",
        "  print(\"variable\",a)\n",
        "\n",
        "\n",
        "number()\n",
        "\n",
        "print(a)"
      ]
    },
    {
      "cell_type": "code",
      "source": [
        "#Here we want a local variable a but we also want to change the global variable a.\n",
        "#special function globals\n",
        "\n",
        "#global variable\n",
        "a = 10\n",
        "print(id(a))\n",
        "b = 9\n",
        "c = 18\n",
        "\n",
        "def number():\n",
        "  \n",
        "  a = 6\n",
        "  x = globals()['a']\n",
        "  print(id(x)) #id of  \"a\" and \"x\" are same.\n",
        "  print(\"variable\",a)\n",
        "  globals()['a'] = 15 # with this we are changing the value of the global varible with out effecting the value of local variable a\n",
        "\n",
        "\n",
        "number()\n",
        "\n",
        "print(a)\n"
      ],
      "metadata": {
        "colab": {
          "base_uri": "https://localhost:8080/"
        },
        "id": "Z9FTpoNAgcWL",
        "outputId": "527610e7-a513-4680-e2e0-3cc906acf506"
      },
      "execution_count": 9,
      "outputs": [
        {
          "output_type": "stream",
          "name": "stdout",
          "text": [
            "140139515019792\n",
            "140139515019792\n",
            "variable 6\n",
            "15\n"
          ]
        }
      ]
    }
  ]
}